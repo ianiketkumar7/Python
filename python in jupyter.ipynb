{
 "cells": [
  {
   "cell_type": "code",
   "execution_count": 7,
   "metadata": {},
   "outputs": [
    {
     "ename": "ValueError",
     "evalue": "invalid literal for int() with base 10: ''",
     "output_type": "error",
     "traceback": [
      "\u001b[0;31m---------------------------------------------------------------------------\u001b[0m",
      "\u001b[0;31mValueError\u001b[0m                                Traceback (most recent call last)",
      "Cell \u001b[0;32mIn [7], line 2\u001b[0m\n\u001b[1;32m      1\u001b[0m n\u001b[39m=\u001b[39m[]\n\u001b[0;32m----> 2\u001b[0m a \u001b[39m=\u001b[39m \u001b[39mint\u001b[39;49m(\u001b[39minput\u001b[39;49m(\u001b[39m\"\u001b[39;49m\u001b[39mEnter no of integers in list: \u001b[39;49m\u001b[39m\"\u001b[39;49m))\n\u001b[1;32m      3\u001b[0m \u001b[39mfor\u001b[39;00m i \u001b[39min\u001b[39;00m \u001b[39mrange\u001b[39m(a):\n\u001b[1;32m      4\u001b[0m     x \u001b[39m=\u001b[39m \u001b[39mint\u001b[39m(\u001b[39minput\u001b[39m())\n",
      "\u001b[0;31mValueError\u001b[0m: invalid literal for int() with base 10: ''"
     ]
    }
   ],
   "source": [
    "\n",
    "n=[]\n",
    "a = int(input(\"Enter no of integers in list: \"))\n",
    "for i in range(a):\n",
    "    x = int(input())\n",
    "    y = n.append(x)\n",
    "if n[0] > n[-1]:\n",
    "    print(n[0])\n",
    "else:\n",
    "    print(n[-1])\n"
   ]
  },
  {
   "cell_type": "code",
   "execution_count": null,
   "metadata": {},
   "outputs": [
    {
     "name": "stdout",
     "output_type": "stream",
     "text": [
      "9\n",
      "79\n",
      "7\n",
      "[7, 70, 73, 74, 75, 76, 77, 78, 79]\n",
      "609\n",
      "[77, 7, 78, 79, 70, 76, 75, 74, 73]\n",
      "[(0, 77), (1, 7), (2, 78), (3, 79), (4, 70), (5, 76), (6, 75), (7, 74), (8, 73)]\n"
     ]
    }
   ],
   "source": [
    "a=[77,7,78,79,70,76,75,74,73]\n",
    "print(len(a))\n",
    "print(max(a))\n",
    "print(min(a))\n",
    "print(sorted(a))\n",
    "print(sum(a))\n",
    "print(list(a))\n",
    "print(list(enumerate(a)))"
   ]
  },
  {
   "cell_type": "code",
   "execution_count": null,
   "metadata": {},
   "outputs": [
    {
     "name": "stdout",
     "output_type": "stream",
     "text": [
      "['z', 'y', 'x', 'a', 9, 8, 7, 6, 5, 4, 3, 2, 1]\n"
     ]
    },
    {
     "ename": "TypeError",
     "evalue": "'<' not supported between instances of 'str' and 'int'",
     "output_type": "error",
     "traceback": [
      "\u001b[0;31m---------------------------------------------------------------------------\u001b[0m",
      "\u001b[0;31mTypeError\u001b[0m                                 Traceback (most recent call last)",
      "Cell \u001b[0;32mIn [26], line 4\u001b[0m\n\u001b[1;32m      2\u001b[0m a\u001b[39m.\u001b[39mreverse()\n\u001b[1;32m      3\u001b[0m \u001b[39mprint\u001b[39m(a)\n\u001b[0;32m----> 4\u001b[0m a\u001b[39m.\u001b[39;49msort(key \u001b[39m=\u001b[39;49m \u001b[39mNone\u001b[39;49;00m, reverse \u001b[39m=\u001b[39;49m \u001b[39mTrue\u001b[39;49;00m)\n\u001b[1;32m      5\u001b[0m \u001b[39mprint\u001b[39m(a)\n",
      "\u001b[0;31mTypeError\u001b[0m: '<' not supported between instances of 'str' and 'int'"
     ]
    }
   ],
   "source": [
    "a=[1,2,3,4,5,6,7,8,9,\"a\",\"x\",\"y\",\"z\"]\n",
    "a.reverse()\n",
    "print(a)\n",
    "a.sort(key = None, reverse = True)\n",
    "print(a)\n"
   ]
  },
  {
   "cell_type": "code",
   "execution_count": null,
   "metadata": {},
   "outputs": [
    {
     "ename": "TypeError",
     "evalue": "'list' object is not callable",
     "output_type": "error",
     "traceback": [
      "\u001b[0;31m---------------------------------------------------------------------------\u001b[0m",
      "\u001b[0;31mTypeError\u001b[0m                                 Traceback (most recent call last)",
      "Cell \u001b[0;32mIn [1], line 4\u001b[0m\n\u001b[1;32m      1\u001b[0m l1 \u001b[39m=\u001b[39m [\u001b[39m1\u001b[39m,\u001b[39m2\u001b[39m,\u001b[39m2\u001b[39m,\u001b[39m3\u001b[39m,\u001b[39m4\u001b[39m,\u001b[39m5\u001b[39m,\u001b[39m5\u001b[39m]\n\u001b[1;32m      2\u001b[0m \u001b[39mfor\u001b[39;00m i \u001b[39min\u001b[39;00m \u001b[39mrange\u001b[39m(\u001b[39m0\u001b[39m,\u001b[39mlen\u001b[39m(l1)):\n\u001b[0;32m----> 4\u001b[0m     \u001b[39mif\u001b[39;00m l1[i] \u001b[39m==\u001b[39m l1(i\u001b[39m+\u001b[39;49m\u001b[39m1\u001b[39;49m):\n\u001b[1;32m      5\u001b[0m         \u001b[39mprint\u001b[39m(l1[i])\n",
      "\u001b[0;31mTypeError\u001b[0m: 'list' object is not callable"
     ]
    }
   ],
   "source": [
    "l1 = [1,2,2,3,4,5,5]\n",
    "for i in range(0,len(l1)):\n",
    "    \n",
    "    if l1[i] == l1(i+1):\n",
    "        print(l1[i])\n"
   ]
  },
  {
   "cell_type": "code",
   "execution_count": null,
   "metadata": {},
   "outputs": [
    {
     "name": "stdout",
     "output_type": "stream",
     "text": [
      "o : 2\n",
      "p : 1\n",
      "  : 1\n",
      "b : 1\n",
      "o : 2\n",
      "l : 1\n",
      "t : 1\n",
      "e : 1\n"
     ]
    }
   ],
   "source": [
    "a = input(\"Please enter a sentence: \")\n",
    "b = list(a)\n",
    "for i in range(0,len(b)):\n",
    "    n = b.count(b[i])\n",
    "    print(b[i],\":\",n)"
   ]
  },
  {
   "cell_type": "code",
   "execution_count": null,
   "metadata": {},
   "outputs": [
    {
     "name": "stdout",
     "output_type": "stream",
     "text": [
      "15\n"
     ]
    }
   ],
   "source": [
    "a=(1,2,3,4,5)\n",
    "print(sum(a))\n"
   ]
  },
  {
   "cell_type": "code",
   "execution_count": null,
   "metadata": {},
   "outputs": [
    {
     "name": "stdout",
     "output_type": "stream",
     "text": [
      "{'id': 101, 'Name': 'XYZ', 'Dept': 'D', 'Salary': 5000}\n",
      "XYZ\n",
      "jheri ra op ra\n",
      "D\n",
      "D2\n"
     ]
    }
   ],
   "source": [
    "Emp1 = {\"id\" :101, \"Name\" : \"XYZ\",\"Dept\" : \"D\",\"Salary\" : 5000}\n",
    "Emp2 = dict([(\"id\",102),(\"Name\",\"ABC\"),(\"Dept\",\"D2\"),((\"Salary\",50000))])\n",
    "print(Emp1)\n",
    "print(Emp1[\"Name\"])\n",
    "print(\"jheri ra op ra\")\n",
    "print(Emp1[\"Dept\"])\n",
    "print(Emp2[\"Dept\"])\n",
    "print()"
   ]
  },
  {
   "cell_type": "code",
   "execution_count": null,
   "metadata": {},
   "outputs": [
    {
     "name": "stdout",
     "output_type": "stream",
     "text": [
      "{'apple': 'red', 'orange': 'orange', 'mango': 'yellow'}\n",
      "{'one': 10, 'two': 10, 'three': 10}\n",
      "dict_items([('cyan', 1), ('voilet', 2), ('green', 3)])\n",
      "<built-in method keys of dict object at 0x112cc6bc0>\n",
      "Value : 2 \n",
      "value : None \n",
      "{'cyan': 1, 'voilet': 2, 'green': 3, 'red': 4, 'white': 5}\n"
     ]
    },
    {
     "data": {
      "text/plain": [
       "dict_values([1, 2, 3, 4, 5])"
      ]
     },
     "execution_count": 39,
     "metadata": {},
     "output_type": "execute_result"
    }
   ],
   "source": [
    "\n",
    "\n",
    "fruits ={\"apple\":\"red\",\"orange\":\"orange\",\"mango\":\"yellow\"}\n",
    "dict2 = fruits.copy()\n",
    "print(dict2)\n",
    "Seq = (\"one\",\"two\",\"three\")\n",
    "dict=dict.fromkeys(Seq,10)\n",
    "print(str(dict))\n",
    "dict1 = {\"cyan\":1,\"voilet\":2,\"green\":3}\n",
    "print(dict1.items())\n",
    "print(dict1.keys)\n",
    "print(\"Value : %s \" % dict1.get(\"voilet\"))\n",
    "print(\"value : %s \" % dict1.get(\"red\"))\n",
    "dict2 = {\"red\":4,\"white\":5,}\n",
    "dict1.update(dict2)\n",
    "print(dict1)\n",
    "dict1.values()"
   ]
  },
  {
   "cell_type": "code",
   "execution_count": null,
   "metadata": {},
   "outputs": [
    {
     "data": {
      "text/plain": [
       "dict_keys(['1', '2', '3'])"
      ]
     },
     "execution_count": 40,
     "metadata": {},
     "output_type": "execute_result"
    }
   ],
   "source": [
    "dct = {\"1\":\"apple\",\"2\":\"orange\",\"3\":\"mango\"}\n",
    "dct_veiw = dct.items()\n",
    "type(dct_veiw)\n",
    "dct_veiw\n",
    "dct_veiw_list = list(dct_veiw)\n",
    "dct_veiw_list\n",
    "type(dct_veiw_list)\n",
    "dct_keys = dct.keys()\n",
    "dct_keys"
   ]
  },
  {
   "cell_type": "code",
   "execution_count": null,
   "metadata": {},
   "outputs": [
    {
     "name": "stdout",
     "output_type": "stream",
     "text": [
      "['1', '2', '3', '4', '56', '6', '7', '8', '9', '0']\n",
      "[1, 2, 3, 4, 5, 6, 7, 8, 9, 10]\n"
     ]
    }
   ],
   "source": [
    "a=[]\n",
    "for i in range(1,11):\n",
    "    x=input()\n",
    "    a.append(x)\n",
    "print(a)\n",
    "l1=[i for i in range(1,11)]\n",
    "print(l1)"
   ]
  },
  {
   "cell_type": "code",
   "execution_count": 20,
   "metadata": {},
   "outputs": [
    {
     "name": "stdout",
     "output_type": "stream",
     "text": [
      "Enter numbers: \n"
     ]
    },
    {
     "ename": "ValueError",
     "evalue": "invalid literal for int() with base 10: ''",
     "output_type": "error",
     "traceback": [
      "\u001b[0;31m---------------------------------------------------------------------------\u001b[0m",
      "\u001b[0;31mValueError\u001b[0m                                Traceback (most recent call last)",
      "Cell \u001b[0;32mIn [20], line 4\u001b[0m\n\u001b[1;32m      2\u001b[0m n \u001b[39m=\u001b[39m \u001b[39mint\u001b[39m(\u001b[39minput\u001b[39m(\u001b[39m\"\u001b[39m\u001b[39mEnter col size: \u001b[39m\u001b[39m\"\u001b[39m))\n\u001b[1;32m      3\u001b[0m \u001b[39mprint\u001b[39m(\u001b[39m\"\u001b[39m\u001b[39mEnter numbers: \u001b[39m\u001b[39m\"\u001b[39m)\n\u001b[0;32m----> 4\u001b[0m mat \u001b[39m=\u001b[39m [[\u001b[39mint\u001b[39m(\u001b[39minput\u001b[39m()) \u001b[39mfor\u001b[39;00m x \u001b[39min\u001b[39;00m \u001b[39mrange\u001b[39m (n)] \u001b[39mfor\u001b[39;00m y \u001b[39min\u001b[39;00m \u001b[39mrange\u001b[39m(m)]\n\u001b[1;32m      5\u001b[0m \u001b[39mprint\u001b[39m(\u001b[39m\"\u001b[39m\u001b[39mMatrix is:\u001b[39m\u001b[39m\"\u001b[39m)\n\u001b[1;32m      6\u001b[0m \u001b[39mfor\u001b[39;00m i \u001b[39min\u001b[39;00m \u001b[39mrange\u001b[39m(m):\n",
      "Cell \u001b[0;32mIn [20], line 4\u001b[0m, in \u001b[0;36m<listcomp>\u001b[0;34m(.0)\u001b[0m\n\u001b[1;32m      2\u001b[0m n \u001b[39m=\u001b[39m \u001b[39mint\u001b[39m(\u001b[39minput\u001b[39m(\u001b[39m\"\u001b[39m\u001b[39mEnter col size: \u001b[39m\u001b[39m\"\u001b[39m))\n\u001b[1;32m      3\u001b[0m \u001b[39mprint\u001b[39m(\u001b[39m\"\u001b[39m\u001b[39mEnter numbers: \u001b[39m\u001b[39m\"\u001b[39m)\n\u001b[0;32m----> 4\u001b[0m mat \u001b[39m=\u001b[39m [[\u001b[39mint\u001b[39m(\u001b[39minput\u001b[39m()) \u001b[39mfor\u001b[39;00m x \u001b[39min\u001b[39;00m \u001b[39mrange\u001b[39m (n)] \u001b[39mfor\u001b[39;00m y \u001b[39min\u001b[39;00m \u001b[39mrange\u001b[39m(m)]\n\u001b[1;32m      5\u001b[0m \u001b[39mprint\u001b[39m(\u001b[39m\"\u001b[39m\u001b[39mMatrix is:\u001b[39m\u001b[39m\"\u001b[39m)\n\u001b[1;32m      6\u001b[0m \u001b[39mfor\u001b[39;00m i \u001b[39min\u001b[39;00m \u001b[39mrange\u001b[39m(m):\n",
      "Cell \u001b[0;32mIn [20], line 4\u001b[0m, in \u001b[0;36m<listcomp>\u001b[0;34m(.0)\u001b[0m\n\u001b[1;32m      2\u001b[0m n \u001b[39m=\u001b[39m \u001b[39mint\u001b[39m(\u001b[39minput\u001b[39m(\u001b[39m\"\u001b[39m\u001b[39mEnter col size: \u001b[39m\u001b[39m\"\u001b[39m))\n\u001b[1;32m      3\u001b[0m \u001b[39mprint\u001b[39m(\u001b[39m\"\u001b[39m\u001b[39mEnter numbers: \u001b[39m\u001b[39m\"\u001b[39m)\n\u001b[0;32m----> 4\u001b[0m mat \u001b[39m=\u001b[39m [[\u001b[39mint\u001b[39;49m(\u001b[39minput\u001b[39;49m()) \u001b[39mfor\u001b[39;00m x \u001b[39min\u001b[39;00m \u001b[39mrange\u001b[39m (n)] \u001b[39mfor\u001b[39;00m y \u001b[39min\u001b[39;00m \u001b[39mrange\u001b[39m(m)]\n\u001b[1;32m      5\u001b[0m \u001b[39mprint\u001b[39m(\u001b[39m\"\u001b[39m\u001b[39mMatrix is:\u001b[39m\u001b[39m\"\u001b[39m)\n\u001b[1;32m      6\u001b[0m \u001b[39mfor\u001b[39;00m i \u001b[39min\u001b[39;00m \u001b[39mrange\u001b[39m(m):\n",
      "\u001b[0;31mValueError\u001b[0m: invalid literal for int() with base 10: ''"
     ]
    }
   ],
   "source": [
    "m = int(input(\"Enter row size: \"))\n",
    "n = int(input(\"Enter col size: \"))\n",
    "print(\"Enter numbers: \")\n",
    "mat = [[int(input()) for x in range (n)] for y in range(m)]\n",
    "print(\"Matrix is:\")\n",
    "for i in range(m):\n",
    "    for j in range(n):\n",
    "        print(mat[i][j],end = \" \")\n",
    "        print()"
   ]
  },
  {
   "cell_type": "code",
   "execution_count": null,
   "metadata": {},
   "outputs": [],
   "source": [
    "class sum1:\n",
    "    a=10\n",
    "    b=20\n",
    "    def __init__(self,firstname,lastname):\n",
    "        self.firstname=firstname \n",
    "        selflastname=lastname"
   ]
  },
  {
   "cell_type": "code",
   "execution_count": null,
   "metadata": {},
   "outputs": [],
   "source": [
    "obj1=sum1()\n",
    "print(obj1.a+obj1.b)"
   ]
  },
  {
   "cell_type": "code",
   "execution_count": null,
   "metadata": {},
   "outputs": [],
   "source": [
    "class cars:\n",
    "    def setname(self,carname):\n",
    "        self.carname = carname\n",
    "\n",
    "    def getname(self):\n",
    "        return(self.carname)"
   ]
  },
  {
   "cell_type": "code",
   "execution_count": null,
   "metadata": {},
   "outputs": [],
   "source": [
    "name=input(\"enter car name : \")\n",
    "car1=cars()\n",
    "car1.setname(name)\n",
    "n=car1.getname()\n",
    "print(\"Entered car Name is: \",n)"
   ]
  },
  {
   "cell_type": "code",
   "execution_count": null,
   "metadata": {},
   "outputs": [],
   "source": [
    "class Person:\n",
    "    def setname(self,name):\n",
    "        self.name=name\n",
    "    def getname(self):\n",
    "        return self.name\n",
    "p1=Person()\n",
    "p2=Person()\n",
    "p1.setname(\"op\")\n",
    "p2.setname(\"jheri\")\n",
    "a=p1.getname()\n",
    "b=p2.getname()\n",
    "print(a)\n",
    "print(b)"
   ]
  }
 ],
 "metadata": {
  "kernelspec": {
   "display_name": "Python 3",
   "language": "python",
   "name": "python3"
  },
  "language_info": {
   "codemirror_mode": {
    "name": "ipython",
    "version": 3
   },
   "file_extension": ".py",
   "mimetype": "text/x-python",
   "name": "python",
   "nbconvert_exporter": "python",
   "pygments_lexer": "ipython3",
   "version": "3.10.7"
  },
  "orig_nbformat": 4,
  "vscode": {
   "interpreter": {
    "hash": "aee8b7b246df8f9039afb4144a1f6fd8d2ca17a180786b69acc140d282b71a49"
   }
  }
 },
 "nbformat": 4,
 "nbformat_minor": 2
}
